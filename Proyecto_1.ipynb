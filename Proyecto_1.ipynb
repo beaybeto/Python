{
  "nbformat": 4,
  "nbformat_minor": 0,
  "metadata": {
    "colab": {
      "provenance": []
    },
    "kernelspec": {
      "name": "python3",
      "display_name": "Python 3"
    },
    "language_info": {
      "name": "python"
    }
  },
  "cells": [
    {
      "cell_type": "markdown",
      "source": [
        "# Parte 1\n",
        "\n",
        "Crear una función que obtenga los puntos obtenidos por cada piloto para un\n",
        "resultado nuevo extraido de un gran premio.\n",
        "\n",
        "Los puntos según la posición son:\n",
        "* 1º clasificado (ganador) 25 puntos\n",
        "* 2º clasificado 20 puntos\n",
        "* 3º clasificado 16 puntos\n",
        "* 4º clasificado 13 puntos\n",
        "* 5º clasificado 11 puntos\n",
        "* 6º clasificado 10 puntos\n",
        "* 7º clasificado 9 puntos\n",
        "* 8º clasificado 8 puntos\n",
        "* 9º clasificado 7 puntos\n",
        "* 10º clasificado 6 puntos\n",
        "* 11º clasificado 5 puntos\n",
        "* 12º clasificado 4 puntos\n",
        "* 13º clasificado 3 puntos\n",
        "* 14º clasificado 2 puntos\n",
        "* 15º clasificado 1 punto\n",
        "\n"
      ],
      "metadata": {
        "id": "J1Pn4oWj7Zls"
      }
    },
    {
      "cell_type": "code",
      "source": [
        "info = [\n",
        "\"Francesco Bagnaia\",\n",
        "\"Marco Bezzecchi\",\n",
        "\"Aleix Espargaró\",\n",
        "\"Brad Binder\",\n",
        "\"Jorge Martín\",\n",
        "\"Álex Márquez\",\n",
        "\"Luca Marini\",\n",
        "\"Takaaki Nakagami\",\n",
        "\"Franco Morbidelli\",\n",
        "\"Augusto Fernández\",\n",
        "\"Lorenzo Savadori\",\n",
        "\"Raúl Fernández\",\n",
        "\"Stefan Bradl\",\n",
        "\"Jonas Folger\",\n",
        "\"Fabio Di Giannantonio\",\n",
        "\"Iker Lecuona Gascón\",\n",
        "\"Miguel Oliveira\",\n",
        "\"Enea Bastianini\",\n",
        "\"Maverick Viñales\",\n",
        "\"Fabio Quartararo\",\n",
        "\"Johann Zarco\",\n",
        "\"Jack Miller\"\n",
        "]\n",
        "posiciones = dict(list(zip(map(str, range(1, 30)), info)))\n",
        "resultados = {\n",
        "'gran_premio': 'Países Bajos',\n",
        "'posiciones': posiciones\n",
        "}\n",
        "resultados"
      ],
      "metadata": {
        "colab": {
          "base_uri": "https://localhost:8080/"
        },
        "id": "qVpIQY3L-c8H",
        "outputId": "506072b6-0c2e-4d55-896a-71609534f48a"
      },
      "execution_count": 19,
      "outputs": [
        {
          "output_type": "execute_result",
          "data": {
            "text/plain": [
              "{'gran_premio': 'Países Bajos',\n",
              " 'posiciones': {'1': 'Francesco Bagnaia',\n",
              "  '2': 'Marco Bezzecchi',\n",
              "  '3': 'Aleix Espargaró',\n",
              "  '4': 'Brad Binder',\n",
              "  '5': 'Jorge Martín',\n",
              "  '6': 'Álex Márquez',\n",
              "  '7': 'Luca Marini',\n",
              "  '8': 'Takaaki Nakagami',\n",
              "  '9': 'Franco Morbidelli',\n",
              "  '10': 'Augusto Fernández',\n",
              "  '11': 'Lorenzo Savadori',\n",
              "  '12': 'Raúl Fernández',\n",
              "  '13': 'Stefan Bradl',\n",
              "  '14': 'Jonas Folger',\n",
              "  '15': 'Fabio Di Giannantonio',\n",
              "  '16': 'Iker Lecuona Gascón',\n",
              "  '17': 'Miguel Oliveira',\n",
              "  '18': 'Enea Bastianini',\n",
              "  '19': 'Maverick Viñales',\n",
              "  '20': 'Fabio Quartararo',\n",
              "  '21': 'Johann Zarco',\n",
              "  '22': 'Jack Miller'}}"
            ]
          },
          "metadata": {},
          "execution_count": 19
        }
      ]
    },
    {
      "cell_type": "code",
      "source": [
        "import csv"
      ],
      "metadata": {
        "id": "SWshLslf5XXS"
      },
      "execution_count": 20,
      "outputs": []
    },
    {
      "cell_type": "code",
      "source": [
        "def puntos_por_piloto(results: dict[str]) -> dict[int]:\n",
        "    clasificaciones_con_puntos = dict(zip(map(str, range(1, 16)), [25, 20, 16, 13] + list(range(11, 0, -1))))\n",
        "    resultados_con_puntos = {}\n",
        "    for posicion, nombre_piloto in results['posiciones'].items():\n",
        "        resultados_con_puntos[nombre_piloto] = clasificaciones_con_puntos.get(posicion, 0)\n",
        "    return resultados_con_puntos"
      ],
      "metadata": {
        "id": "JrU94Uq55edL"
      },
      "execution_count": 21,
      "outputs": []
    },
    {
      "cell_type": "code",
      "source": [
        "puntos_por_piloto(resultados)\n"
      ],
      "metadata": {
        "colab": {
          "base_uri": "https://localhost:8080/"
        },
        "id": "lHyx53oF-6uo",
        "outputId": "8f8950be-3a85-4f5a-b067-a55380d0faf3"
      },
      "execution_count": 22,
      "outputs": [
        {
          "output_type": "execute_result",
          "data": {
            "text/plain": [
              "{'Francesco Bagnaia': 25,\n",
              " 'Marco Bezzecchi': 20,\n",
              " 'Aleix Espargaró': 16,\n",
              " 'Brad Binder': 13,\n",
              " 'Jorge Martín': 11,\n",
              " 'Álex Márquez': 10,\n",
              " 'Luca Marini': 9,\n",
              " 'Takaaki Nakagami': 8,\n",
              " 'Franco Morbidelli': 7,\n",
              " 'Augusto Fernández': 6,\n",
              " 'Lorenzo Savadori': 5,\n",
              " 'Raúl Fernández': 4,\n",
              " 'Stefan Bradl': 3,\n",
              " 'Jonas Folger': 2,\n",
              " 'Fabio Di Giannantonio': 1,\n",
              " 'Iker Lecuona Gascón': 0,\n",
              " 'Miguel Oliveira': 0,\n",
              " 'Enea Bastianini': 0,\n",
              " 'Maverick Viñales': 0,\n",
              " 'Fabio Quartararo': 0,\n",
              " 'Johann Zarco': 0,\n",
              " 'Jack Miller': 0}"
            ]
          },
          "metadata": {},
          "execution_count": 22
        }
      ]
    },
    {
      "cell_type": "markdown",
      "source": [
        "# Parte 2\n",
        "\n",
        "Una función que usando los datos de los resultados del nuevo gran premio, lea y actualice la información del fichero \"Clasificación-actual.csv\" añadiendo los nuevos puntos por cada piloto actualizando la posición y la puntuación de cada piloto"
      ],
      "metadata": {
        "id": "HlNXH_mP8Pqn"
      }
    },
    {
      "cell_type": "code",
      "source": [
        "def actualizacion_clasificacion_actual(results: dict[str], nombre_fichero_clasificaciones: str = '/content/Clasificacion-actual.csv',\n",
        "                     nombre_salida: str = 'Clasificacion-actual-actualizado.csv') -> str:\n",
        "    resultados_con_puntos = puntos_por_piloto(results)\n",
        "    nuevos_resultados = []\n",
        "\n",
        "    with open(nombre_fichero_clasificaciones) as file:\n",
        "        csv_reader = csv.DictReader(file)\n",
        "\n",
        "        for piloto_actual in csv_reader:\n",
        "            nombre_piloto = piloto_actual['nombre'].strip()\n",
        "            nueva_puntuacion = resultados_con_puntos.get(nombre_piloto, 0)\n",
        "            nuevos_puntos = int(piloto_actual['Puntos']) + nueva_puntuacion\n",
        "            piloto_actual['Puntos'] = str(nuevos_puntos)\n",
        "            piloto_actual['nombre'] = nombre_piloto\n",
        "            nuevos_resultados.append(piloto_actual)\n",
        "\n",
        "    nuevos_resultados = sorted(nuevos_resultados, key=lambda x: int(x['Puntos']), reverse=True)\n",
        "\n",
        "    with open(nombre_salida, 'w') as file:\n",
        "        fieldnames = list(nuevos_resultados[0].keys())\n",
        "        csv_writer = csv.DictWriter(file, fieldnames=fieldnames)\n",
        "        csv_writer.writeheader()\n",
        "\n",
        "        for idx, nuevo_resultado in enumerate(nuevos_resultados, 1):\n",
        "            nuevo_resultado['Pos.'] = idx\n",
        "            csv_writer.writerow(nuevo_resultado)\n",
        "\n",
        "    return nombre_salida\n",
        "\n"
      ],
      "metadata": {
        "id": "X5shZ_V35jlh"
      },
      "execution_count": 23,
      "outputs": []
    },
    {
      "cell_type": "code",
      "source": [
        "actualizacion_clasificacion_actual(resultados)"
      ],
      "metadata": {
        "colab": {
          "base_uri": "https://localhost:8080/",
          "height": 36
        },
        "id": "28gWrrH05ryN",
        "outputId": "d1060688-cfa0-4fdb-d06d-9546593fef3b"
      },
      "execution_count": 24,
      "outputs": [
        {
          "output_type": "execute_result",
          "data": {
            "text/plain": [
              "'Clasificacion-actual-actualizado.csv'"
            ],
            "application/vnd.google.colaboratory.intrinsic+json": {
              "type": "string"
            }
          },
          "metadata": {},
          "execution_count": 24
        }
      ]
    },
    {
      "cell_type": "markdown",
      "source": [
        "# Parte 3\n",
        "\n",
        "Una función que usando los datos de los resultados del nuevo gran premio, lea y actualice la información del fichero Clasificaciones por cada gran premio.csv añadiendo los nuevos puntos por cada piloto en este gran premio"
      ],
      "metadata": {
        "id": "hpsEqsQB8bHs"
      }
    },
    {
      "cell_type": "code",
      "source": [
        "def actualizacion_gran_premio(results: dict[str], nombre_entrada: str = '/content/Clasificaciones por cada gran premio.csv',\n",
        "                     nombre_salida: str = 'Clasificaciones por cada gran premio-actualizado.csv') -> str:\n",
        "    nombre_gran_premio = results['gran_premio']\n",
        "    resultados_con_puntos = puntos_por_piloto(results)\n",
        "\n",
        "    with open(nombre_entrada) as fr, open(nombre_salida, 'w') as fw:\n",
        "        csv_reader = csv.DictReader(fr)\n",
        "\n",
        "        for idx, clasificacion_actual in enumerate(csv_reader):\n",
        "            if idx == 0:\n",
        "                csv_writer = csv.DictWriter(fw, fieldnames=list(clasificacion_actual.keys()))\n",
        "                csv_writer.writeheader()\n",
        "\n",
        "            nombre_piloto = clasificacion_actual['Nombre']\n",
        "            nueva_puntuacion = resultados_con_puntos.get(nombre_piloto, '-')\n",
        "            if isinstance(nueva_puntuacion, int):\n",
        "                nuevos_puntos = int(clasificacion_actual['Puntuación']) + nueva_puntuacion\n",
        "\n",
        "            clasificacion_actual['Puntuación'] = str(nuevos_puntos)\n",
        "            clasificacion_actual[nombre_gran_premio] = str(nueva_puntuacion)\n",
        "\n",
        "            csv_writer.writerow(clasificacion_actual)\n",
        "    return nombre_salida"
      ],
      "metadata": {
        "id": "EOhJJzkn8rjx"
      },
      "execution_count": 28,
      "outputs": []
    },
    {
      "cell_type": "code",
      "source": [
        "actualizacion_gran_premio(resultados)"
      ],
      "metadata": {
        "colab": {
          "base_uri": "https://localhost:8080/",
          "height": 36
        },
        "id": "5CZjnwIhGJ2C",
        "outputId": "9ad0b4e3-a03a-433e-cc16-9a839073fe30"
      },
      "execution_count": 29,
      "outputs": [
        {
          "output_type": "execute_result",
          "data": {
            "text/plain": [
              "'Clasificaciones por cada gran premio-actualizado.csv'"
            ],
            "application/vnd.google.colaboratory.intrinsic+json": {
              "type": "string"
            }
          },
          "metadata": {},
          "execution_count": 29
        }
      ]
    },
    {
      "cell_type": "markdown",
      "source": [
        "# Parte 4\n",
        "\n",
        "Cuando se actualice el fichero de Clasificaciones por cada gran premio.csv también debe de actualizarse la posición y la puntuación total de cada piloto"
      ],
      "metadata": {
        "id": "FJNMThfJ8iOm"
      }
    },
    {
      "cell_type": "code",
      "source": [
        "def clasificacion_final(results: dict[str], nombre_entrada: str = '/content/Clasificaciones por cada gran premio.csv',\n",
        "                     nombre_salida: str = 'Clasificaciones por cada gran premio-actualizacion final.csv') -> str:\n",
        "    nombre_gran_premio = results['gran_premio']\n",
        "    resultados_con_puntos = puntos_por_piloto(results)\n",
        "    nuevos_resultados = []\n",
        "\n",
        "    with open(nombre_entrada) as fr:\n",
        "        csv_reader = csv.DictReader(fr)\n",
        "\n",
        "        for clasificacion_actual in csv_reader:\n",
        "            nombre_piloto = clasificacion_actual['Nombre']\n",
        "            nueva_puntuacion = resultados_con_puntos.get(nombre_piloto, '-')\n",
        "            if isinstance(nueva_puntuacion, int):\n",
        "                nuevos_puntos = int(clasificacion_actual['Puntuación']) + nueva_puntuacion\n",
        "\n",
        "            clasificacion_actual['Puntuación'] = str(nuevos_puntos)\n",
        "            clasificacion_actual[nombre_gran_premio] = str(nueva_puntuacion)\n",
        "\n",
        "            nuevos_resultados.append(clasificacion_actual)\n",
        "\n",
        "    nuevos_resultados = sorted(nuevos_resultados, key=lambda x: int(x['Puntuación']), reverse=True)\n",
        "\n",
        "    with open(nombre_salida, 'w') as fw:\n",
        "        fieldnames = list(nuevos_resultados[0].keys())\n",
        "        csv_writer = csv.DictWriter(fw, fieldnames=fieldnames)\n",
        "        csv_writer.writeheader()\n",
        "\n",
        "        for idx, nuevo_resultado in enumerate(nuevos_resultados, 1):\n",
        "            nuevo_resultado['Posicion'] = f'{idx}º'\n",
        "            csv_writer.writerow(nuevo_resultado)\n",
        "\n",
        "    return nombre_salida\n"
      ],
      "metadata": {
        "id": "M3rj2_0W8qLA"
      },
      "execution_count": 30,
      "outputs": []
    },
    {
      "cell_type": "code",
      "source": [
        "clasificacion_final(resultados)"
      ],
      "metadata": {
        "colab": {
          "base_uri": "https://localhost:8080/",
          "height": 36
        },
        "id": "frs9Ni0NGYD6",
        "outputId": "b62e151a-cc87-454c-cd6a-7aef12fb3929"
      },
      "execution_count": 31,
      "outputs": [
        {
          "output_type": "execute_result",
          "data": {
            "text/plain": [
              "'Clasificaciones por cada gran premio-actualizacion final.csv'"
            ],
            "application/vnd.google.colaboratory.intrinsic+json": {
              "type": "string"
            }
          },
          "metadata": {},
          "execution_count": 31
        }
      ]
    }
  ]
}